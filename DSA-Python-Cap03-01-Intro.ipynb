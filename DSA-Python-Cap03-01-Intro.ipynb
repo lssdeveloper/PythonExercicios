{
  "nbformat": 4,
  "nbformat_minor": 0,
  "metadata": {
    "colab": {
      "provenance": [],
      "toc_visible": true,
      "authorship_tag": "ABX9TyORVLQPslspli8TmWCgXgjq",
      "include_colab_link": true
    },
    "kernelspec": {
      "name": "python3",
      "display_name": "Python 3"
    },
    "language_info": {
      "name": "python"
    }
  },
  "cells": [
    {
      "cell_type": "markdown",
      "metadata": {
        "id": "view-in-github",
        "colab_type": "text"
      },
      "source": [
        "<a href=\"https://colab.research.google.com/github/lssdeveloper/PythonExercicios/blob/master/DSA-Python-Cap03-01-Intro.ipynb\" target=\"_parent\"><img src=\"https://colab.research.google.com/assets/colab-badge.svg\" alt=\"Open In Colab\"/></a>"
      ]
    },
    {
      "cell_type": "code",
      "source": [
        "# Cria uma lista com os números entre 1 e 100\n",
        "numeros = list(range(1, 101))"
      ],
      "metadata": {
        "id": "VyXlJTFXWPGT"
      },
      "execution_count": 3,
      "outputs": []
    },
    {
      "cell_type": "code",
      "source": [
        "type(numeros)"
      ],
      "metadata": {
        "colab": {
          "base_uri": "https://localhost:8080/"
        },
        "id": "sN8kqrWRq9q-",
        "outputId": "1f898353-6a07-4f5e-9631-5798f1ea4691"
      },
      "execution_count": 5,
      "outputs": [
        {
          "output_type": "execute_result",
          "data": {
            "text/plain": [
              "list"
            ]
          },
          "metadata": {},
          "execution_count": 5
        }
      ]
    },
    {
      "cell_type": "code",
      "source": [
        "# percorre a lista e verifica se o número é par e divisível por 4\n",
        "for numero in numeros:\n",
        "  if numero % 2 == 0 and numero % 4 == 0:\n",
        "    print(numero)"
      ],
      "metadata": {
        "colab": {
          "base_uri": "https://localhost:8080/"
        },
        "id": "ygllGyukrYc1",
        "outputId": "f54f072b-61a6-4ec6-93af-aa9329e0f2b0"
      },
      "execution_count": 7,
      "outputs": [
        {
          "output_type": "stream",
          "name": "stdout",
          "text": [
            "4\n",
            "8\n",
            "12\n",
            "16\n",
            "20\n",
            "24\n",
            "28\n",
            "32\n",
            "36\n",
            "40\n",
            "44\n",
            "48\n",
            "52\n",
            "56\n",
            "60\n",
            "64\n",
            "68\n",
            "72\n",
            "76\n",
            "80\n",
            "84\n",
            "88\n",
            "92\n",
            "96\n",
            "100\n"
          ]
        }
      ]
    },
    {
      "cell_type": "code",
      "source": [
        "# usa a list comprehension para gerar uma lista somente com os números pares e divisíveis por 4\n",
        "pares_div4 = [numero for numero in numeros if numero % 2 == 0 and numero % 4 == 0]\n",
        "print(pares_div4)"
      ],
      "metadata": {
        "colab": {
          "base_uri": "https://localhost:8080/"
        },
        "id": "hvUnpfvNsF-2",
        "outputId": "f0ea574a-495f-4090-bcbb-b22330b3dcef"
      },
      "execution_count": 8,
      "outputs": [
        {
          "output_type": "stream",
          "name": "stdout",
          "text": [
            "[4, 8, 12, 16, 20, 24, 28, 32, 36, 40, 44, 48, 52, 56, 60, 64, 68, 72, 76, 80, 84, 88, 92, 96, 100]\n"
          ]
        }
      ]
    },
    {
      "cell_type": "code",
      "source": [
        "from platform import python_version\n",
        "print('Versão da linguagem Python:', python_version())\n"
      ],
      "metadata": {
        "colab": {
          "base_uri": "https://localhost:8080/"
        },
        "id": "47VbhrTOwamL",
        "outputId": "47e5596a-4497-48c4-b9e3-d55965676caa"
      },
      "execution_count": 10,
      "outputs": [
        {
          "output_type": "stream",
          "name": "stdout",
          "text": [
            "Versão da linguagem Python: 3.9.16\n"
          ]
        }
      ]
    },
    {
      "cell_type": "code",
      "source": [
        "# calculando a área de um paralelograma\n",
        "print(\"Bem-vindo ao CALCULADOR  de área de Paralelogramo\")\n",
        "base = float(input(\"Insira o compirmento da base: \"))\n",
        "altura = float(input(\"Insira a altura: \"))\n",
        "area = base * altura\n",
        "print(\"A área do paralelograma é: \", area)"
      ],
      "metadata": {
        "colab": {
          "base_uri": "https://localhost:8080/"
        },
        "id": "_abZ9xWtyTOt",
        "outputId": "013f8b6f-2dd1-49fb-f714-f225511c0076"
      },
      "execution_count": 11,
      "outputs": [
        {
          "output_type": "stream",
          "name": "stdout",
          "text": [
            "Bem-vindo ao CALCULADOR  de área de Paralelogramo\n",
            "Insira o compirmento da base: 100\n",
            "Insira a altura: 20\n",
            "A área do paralelograma é:  2000.0\n"
          ]
        }
      ]
    },
    {
      "cell_type": "code",
      "source": [
        "# Calculadora Simples\n",
        "print(\"Bem-vindo a Calculadora simples!\")\n",
        "num1 = float(input(\"Insira o primeiro número: \"))\n",
        "num2 = float(input(\"Insira o segundo número: \"))\n",
        "operacao = input(\"Selecione uma operação (+, -, x, /): \")\n",
        "if operacao == \"+\":\n",
        "  resultado = num1 + num2\n",
        "  print(\"O resultado é: \", resultado)\n",
        "\n",
        "elif operacao == \"-\":\n",
        "  resultado = num1 - num2\n",
        "  print(\"O resultado é: \", resultado)"
      ],
      "metadata": {
        "id": "3V4VCbis0Ga2"
      },
      "execution_count": null,
      "outputs": []
    }
  ]
}